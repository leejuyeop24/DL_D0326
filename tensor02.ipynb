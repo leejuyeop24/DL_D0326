{
 "cells": [
  {
   "cell_type": "markdown",
   "metadata": {},
   "source": [
    "[ Tensor 생성 및 속성 확인 ]"
   ]
  },
  {
   "cell_type": "markdown",
   "metadata": {},
   "source": [
    "[1] 모듈 로딩 <hr>"
   ]
  },
  {
   "cell_type": "code",
   "execution_count": 25,
   "metadata": {},
   "outputs": [],
   "source": [
    "import torch\t\t## 텐서 및 공통 함수들 모듈\n",
    "import utils\t\t## 사용자 정의 함수들 모듈\n",
    "import numpy as np"
   ]
  },
  {
   "cell_type": "markdown",
   "metadata": {},
   "source": [
    "[2] 텐서 생성 및 속성 확인 <hr>"
   ]
  },
  {
   "cell_type": "code",
   "execution_count": 7,
   "metadata": {},
   "outputs": [
    {
     "data": {
      "text/plain": [
       "<torch._C.Generator at 0x1e211e7f470>"
      ]
     },
     "execution_count": 7,
     "metadata": {},
     "output_type": "execute_result"
    }
   ],
   "source": [
    "# 임의의 값으로 텐서 생성\n",
    "torch.manual_seed(12)"
   ]
  },
  {
   "cell_type": "code",
   "execution_count": 8,
   "metadata": {},
   "outputs": [],
   "source": [
    "t1 = torch.rand(2,3)\t\t\t# [0, 1) 분포 안에서 램덤 생성\n",
    "t2 = torch.randn(2,3)\t\t\t# standard normal 분포 안에서 랜덤 생성\n",
    "\n",
    "t3 = torch.randint(low=1,high=10,size=(2,3)) # [low, high] low<=값<high"
   ]
  },
  {
   "cell_type": "code",
   "execution_count": 9,
   "metadata": {},
   "outputs": [
    {
     "name": "stdout",
     "output_type": "stream",
     "text": [
      "t1-----------------------------\n",
      "shape  : torch.Size([2, 3])\t torch.Size([2, 3])\n",
      "ndim   : 2      2\n",
      "device : cpu\n",
      "dtype  : torch.float32\n",
      "tensor : tensor([[0.4657, 0.2328, 0.4527],\n",
      "        [0.5871, 0.4086, 0.1272]])\n"
     ]
    }
   ],
   "source": [
    "## 텐서 속성 확인\n",
    "utils.printTensorInfo('t1', t1)"
   ]
  },
  {
   "cell_type": "code",
   "execution_count": 10,
   "metadata": {},
   "outputs": [
    {
     "name": "stdout",
     "output_type": "stream",
     "text": [
      "t3-----------------------------\n",
      "shape  : torch.Size([2, 3])\t torch.Size([2, 3])\n",
      "ndim   : 2      2\n",
      "device : cpu\n",
      "dtype  : torch.int64\n",
      "tensor : tensor([[8, 4, 6],\n",
      "        [2, 2, 2]])\n"
     ]
    }
   ],
   "source": [
    "## 텐서 속성 확인\n",
    "utils.printTensorInfo('t3', t3)"
   ]
  },
  {
   "cell_type": "code",
   "execution_count": 11,
   "metadata": {},
   "outputs": [],
   "source": [
    "## 생성 - Numpy 객체로 값 채운 Tensor\n",
    "arr = np.linspace(1,10,6)\t\t\t# ndarray 객체"
   ]
  },
  {
   "cell_type": "code",
   "execution_count": 12,
   "metadata": {},
   "outputs": [],
   "source": [
    "## ndarray ==> tensor 생성\n",
    "t1 = torch.from_numpy(arr)\t\t\t# share방식 => 원본 공유, 변경 시 함께 변경\n",
    "t2 = torch.as_tensor(arr)\t\t\t# share방식 => 원본 공유, 변경 시 함께 변경\n",
    "t3 = torch.tensor(arr)\t\t\t\t# copy방식  => 새로운 메모리 공간에 데이터 복사"
   ]
  },
  {
   "cell_type": "code",
   "execution_count": 13,
   "metadata": {},
   "outputs": [
    {
     "name": "stdout",
     "output_type": "stream",
     "text": [
      "[전] arr => [ 1.   2.8  4.6  6.4  8.2 10. ]\n",
      "[후] arr => [ 5.   2.8  4.6  6.4  8.2 10. ]\n"
     ]
    }
   ],
   "source": [
    "## 체크 !!\n",
    "print(f'[전] arr => {arr}')\n",
    "arr[0]=5.0\n",
    "print(f'[후] arr => {arr}')"
   ]
  },
  {
   "cell_type": "code",
   "execution_count": 14,
   "metadata": {},
   "outputs": [
    {
     "name": "stdout",
     "output_type": "stream",
     "text": [
      "t1 => tensor([ 5.0000,  2.8000,  4.6000,  6.4000,  8.2000, 10.0000],\n",
      "       dtype=torch.float64)\n",
      "t2=>  tensor([ 5.0000,  2.8000,  4.6000,  6.4000,  8.2000, 10.0000],\n",
      "       dtype=torch.float64)\n",
      "t3 => tensor([ 1.0000,  2.8000,  4.6000,  6.4000,  8.2000, 10.0000],\n",
      "       dtype=torch.float64)\n"
     ]
    }
   ],
   "source": [
    "## 텐서 체크\n",
    "print('t1 =>', t1)\n",
    "print('t2=> ', t2)\n",
    "print('t3 =>', t3)"
   ]
  },
  {
   "cell_type": "code",
   "execution_count": 15,
   "metadata": {},
   "outputs": [
    {
     "name": "stderr",
     "output_type": "stream",
     "text": [
      "C:\\Users\\KDP-35\\AppData\\Local\\Temp\\ipykernel_7220\\2550043006.py:6: UserWarning: To copy construct from a tensor, it is recommended to use sourceTensor.clone().detach() or sourceTensor.clone().detach().requires_grad_(True), rather than torch.tensor(sourceTensor).\n",
      "  t3 = torch.tensor(t0)\t\t\t\t# copy방식  => 새로운 메모리 공간에 데이터 복사\n"
     ]
    }
   ],
   "source": [
    "## tensor 데이터 ==> tensor 생성\n",
    "t0 = torch.tensor([11,22])\n",
    "\n",
    "#t1 = torch.from_numpy(t0)\t\t\t# share방식 => 원본 공유, 변경 시 함께 변경\n",
    "t2 = torch.as_tensor(t0)\t\t\t# share방식 => 원본 공유, 변경 시 함께 변경\n",
    "t3 = torch.tensor(t0)\t\t\t\t# copy방식  => 새로운 메모리 공간에 데이터 복사"
   ]
  },
  {
   "cell_type": "code",
   "execution_count": 16,
   "metadata": {},
   "outputs": [
    {
     "name": "stdout",
     "output_type": "stream",
     "text": [
      "tensor(11) tensor(22)\n",
      "11 22\n"
     ]
    }
   ],
   "source": [
    "## 텐서 원소 변경\n",
    "print( t0[0], t0[1] )\n",
    "print( t0[0].item(), t0[1].item() )"
   ]
  },
  {
   "cell_type": "code",
   "execution_count": 17,
   "metadata": {},
   "outputs": [
    {
     "name": "stdout",
     "output_type": "stream",
     "text": [
      "9 22\n"
     ]
    }
   ],
   "source": [
    "t0[0] = 9\n",
    "print( t0[0].item(), t0[1].item() )"
   ]
  },
  {
   "cell_type": "code",
   "execution_count": 18,
   "metadata": {},
   "outputs": [
    {
     "name": "stdout",
     "output_type": "stream",
     "text": [
      "tensor([ 9, 22]) tensor([11, 22])\n"
     ]
    }
   ],
   "source": [
    "# as_tensor() share로 원본 변경 시 적용 O\n",
    "# tensor() copy로 원본 변겅 시 적용 X\n",
    "print(t2, t3)"
   ]
  },
  {
   "cell_type": "markdown",
   "metadata": {},
   "source": [
    "[4] 특정 데이터타입의 Tensor 생성 <hr>"
   ]
  },
  {
   "cell_type": "code",
   "execution_count": 19,
   "metadata": {},
   "outputs": [
    {
     "name": "stdout",
     "output_type": "stream",
     "text": [
      "tensor([11.,  0.])\n",
      "<built-in method type of Tensor object at 0x000001E21C820040>\n"
     ]
    }
   ],
   "source": [
    "t1 = torch.FloatTensor([11,0])\n",
    "print(t1, t1.type, sep='\\n')"
   ]
  },
  {
   "cell_type": "code",
   "execution_count": 20,
   "metadata": {},
   "outputs": [
    {
     "name": "stdout",
     "output_type": "stream",
     "text": [
      "tensor([11.,  0.], dtype=torch.float64)\n",
      "<built-in method type of Tensor object at 0x000001E21C8201D0>\n"
     ]
    }
   ],
   "source": [
    "t1 = torch.DoubleTensor([11,0])\n",
    "print(t1, t1.type, sep='\\n')"
   ]
  },
  {
   "cell_type": "code",
   "execution_count": 21,
   "metadata": {},
   "outputs": [
    {
     "name": "stdout",
     "output_type": "stream",
     "text": [
      "tensor([ True, False])\n",
      "<built-in method type of Tensor object at 0x000001E21C820AE0>\n"
     ]
    }
   ],
   "source": [
    "t1 = torch.BoolTensor([11,0])\n",
    "print(t1, t1.type, sep='\\n')"
   ]
  }
 ],
 "metadata": {
  "kernelspec": {
   "display_name": "ML_PY39",
   "language": "python",
   "name": "python3"
  },
  "language_info": {
   "codemirror_mode": {
    "name": "ipython",
    "version": 3
   },
   "file_extension": ".py",
   "mimetype": "text/x-python",
   "name": "python",
   "nbconvert_exporter": "python",
   "pygments_lexer": "ipython3",
   "version": "3.9.21"
  }
 },
 "nbformat": 4,
 "nbformat_minor": 2
}
