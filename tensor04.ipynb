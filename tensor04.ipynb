{
 "cells": [
  {
   "cell_type": "markdown",
   "metadata": {},
   "source": [
    "[Tensor shape 변경]"
   ]
  },
  {
   "cell_type": "code",
   "execution_count": 4,
   "metadata": {},
   "outputs": [
    {
     "ename": "OSError",
     "evalue": "[WinError 126] 지정된 모듈을 찾을 수 없습니다. Error loading \"c:\\Users\\KDP-35\\anaconda3\\envs\\DL_TORCH\\lib\\site-packages\\torch\\lib\\cudnn_adv64_9.dll\" or one of its dependencies.",
     "output_type": "error",
     "traceback": [
      "\u001b[1;31m---------------------------------------------------------------------------\u001b[0m",
      "\u001b[1;31mOSError\u001b[0m                                   Traceback (most recent call last)",
      "Cell \u001b[1;32mIn[4], line 2\u001b[0m\n\u001b[0;32m      1\u001b[0m \u001b[38;5;66;03m## 모듈로딩\u001b[39;00m\n\u001b[1;32m----> 2\u001b[0m \u001b[38;5;28;01mimport\u001b[39;00m\u001b[38;5;250m \u001b[39m\u001b[38;5;21;01mtorch\u001b[39;00m\n",
      "File \u001b[1;32mc:\\Users\\KDP-35\\anaconda3\\envs\\DL_TORCH\\lib\\site-packages\\torch\\__init__.py:262\u001b[0m\n\u001b[0;32m    258\u001b[0m                     \u001b[38;5;28;01mraise\u001b[39;00m err\n\u001b[0;32m    260\u001b[0m         kernel32\u001b[38;5;241m.\u001b[39mSetErrorMode(prev_error_mode)\n\u001b[1;32m--> 262\u001b[0m     \u001b[43m_load_dll_libraries\u001b[49m\u001b[43m(\u001b[49m\u001b[43m)\u001b[49m\n\u001b[0;32m    263\u001b[0m     \u001b[38;5;28;01mdel\u001b[39;00m _load_dll_libraries\n\u001b[0;32m    266\u001b[0m \u001b[38;5;28;01mdef\u001b[39;00m\u001b[38;5;250m \u001b[39m\u001b[38;5;21m_preload_cuda_deps\u001b[39m(lib_folder: \u001b[38;5;28mstr\u001b[39m, lib_name: \u001b[38;5;28mstr\u001b[39m) \u001b[38;5;241m-\u001b[39m\u001b[38;5;241m>\u001b[39m \u001b[38;5;28;01mNone\u001b[39;00m:\n",
      "File \u001b[1;32mc:\\Users\\KDP-35\\anaconda3\\envs\\DL_TORCH\\lib\\site-packages\\torch\\__init__.py:258\u001b[0m, in \u001b[0;36m_load_dll_libraries\u001b[1;34m()\u001b[0m\n\u001b[0;32m    254\u001b[0m             err \u001b[38;5;241m=\u001b[39m ctypes\u001b[38;5;241m.\u001b[39mWinError(ctypes\u001b[38;5;241m.\u001b[39mget_last_error())\n\u001b[0;32m    255\u001b[0m             err\u001b[38;5;241m.\u001b[39mstrerror \u001b[38;5;241m+\u001b[39m\u001b[38;5;241m=\u001b[39m (\n\u001b[0;32m    256\u001b[0m                 \u001b[38;5;124mf\u001b[39m\u001b[38;5;124m'\u001b[39m\u001b[38;5;124m Error loading \u001b[39m\u001b[38;5;124m\"\u001b[39m\u001b[38;5;132;01m{\u001b[39;00mdll\u001b[38;5;132;01m}\u001b[39;00m\u001b[38;5;124m\"\u001b[39m\u001b[38;5;124m or one of its dependencies.\u001b[39m\u001b[38;5;124m'\u001b[39m\n\u001b[0;32m    257\u001b[0m             )\n\u001b[1;32m--> 258\u001b[0m             \u001b[38;5;28;01mraise\u001b[39;00m err\n\u001b[0;32m    260\u001b[0m kernel32\u001b[38;5;241m.\u001b[39mSetErrorMode(prev_error_mode)\n",
      "\u001b[1;31mOSError\u001b[0m: [WinError 126] 지정된 모듈을 찾을 수 없습니다. Error loading \"c:\\Users\\KDP-35\\anaconda3\\envs\\DL_TORCH\\lib\\site-packages\\torch\\lib\\cudnn_adv64_9.dll\" or one of its dependencies."
     ]
    }
   ],
   "source": [
    "## 모듈로딩\n",
    "import torch"
   ]
  },
  {
   "cell_type": "code",
   "execution_count": 49,
   "metadata": {},
   "outputs": [
    {
     "name": "stdout",
     "output_type": "stream",
     "text": [
      "PyTorch 버전: 2.4.0\n",
      "CUDA 지원 버전: None\n",
      "CUDA 사용 가능: False\n"
     ]
    }
   ],
   "source": [
    "import torch\n",
    "print(\"PyTorch 버전:\", torch.__version__)\n",
    "print(\"CUDA 지원 버전:\", torch.version.cuda)\n",
    "print(\"CUDA 사용 가능:\", torch.cuda.is_available())\n",
    "\n"
   ]
  },
  {
   "cell_type": "code",
   "execution_count": 50,
   "metadata": {},
   "outputs": [
    {
     "name": "stdout",
     "output_type": "stream",
     "text": [
      "PyTorch 버전: 2.4.0\n",
      "CUDA 지원 버전: None\n",
      "CUDA 사용 가능: False\n",
      "사용 중인 GPU: GPU 사용 불가\n"
     ]
    }
   ],
   "source": [
    "import torch\n",
    "print(\"PyTorch 버전:\", torch.__version__)\n",
    "print(\"CUDA 지원 버전:\", torch.version.cuda)\n",
    "print(\"CUDA 사용 가능:\", torch.cuda.is_available())\n",
    "print(\"사용 중인 GPU:\", torch.cuda.get_device_name(0) if torch.cuda.is_available() else \"GPU 사용 불가\")\n"
   ]
  },
  {
   "cell_type": "code",
   "execution_count": 66,
   "metadata": {},
   "outputs": [],
   "source": [
    "## 텐서 생성\n",
    "t1 = torch.tensor([11,22,33,44,55,66])"
   ]
  },
  {
   "cell_type": "code",
   "execution_count": 52,
   "metadata": {},
   "outputs": [
    {
     "data": {
      "text/plain": [
       "torch.Size([6, 1, 1])"
      ]
     },
     "execution_count": 52,
     "metadata": {},
     "output_type": "execute_result"
    }
   ],
   "source": [
    "## shape 변경 => reshape()-----------------------------------\n",
    "t2 = t1.reshape(-1,1,1)\t# 1D => 3D\n",
    "t2.shape"
   ]
  },
  {
   "cell_type": "code",
   "execution_count": 53,
   "metadata": {},
   "outputs": [
    {
     "data": {
      "text/plain": [
       "torch.Size([6, 1, 1, 1])"
      ]
     },
     "execution_count": 53,
     "metadata": {},
     "output_type": "execute_result"
    }
   ],
   "source": [
    "## t1 1D ==> 4D, t3 저장하기\n",
    "t3 = t1.reshape(-1,1,1,1)\n",
    "t3.shape"
   ]
  },
  {
   "cell_type": "code",
   "execution_count": 54,
   "metadata": {},
   "outputs": [
    {
     "data": {
      "text/plain": [
       "torch.Size([2, 3])"
      ]
     },
     "execution_count": 54,
     "metadata": {},
     "output_type": "execute_result"
    }
   ],
   "source": [
    "## shape 변경 => view()---------------------------------------\n",
    "t2 = t1.view(2, 3)\n",
    "t2.shape"
   ]
  },
  {
   "cell_type": "code",
   "execution_count": 55,
   "metadata": {},
   "outputs": [
    {
     "data": {
      "text/plain": [
       "torch.Size([1, 2, 3])"
      ]
     },
     "execution_count": 55,
     "metadata": {},
     "output_type": "execute_result"
    }
   ],
   "source": [
    "t3 = t1.view(-1, 2, 3)\n",
    "t3.shape"
   ]
  },
  {
   "cell_type": "markdown",
   "metadata": {},
   "source": [
    "##### [ Axis 변경]"
   ]
  },
  {
   "cell_type": "markdown",
   "metadata": {},
   "source": [
    "- axis란?\n",
    "\t* Tensor의 shape 정보에서 확인\n",
    "\t* 2D => (m, n) => axis0 m, axis1 n\n",
    "\t* 3D => (l, m, n) => axis0 l, axis1 m, axis2 n"
   ]
  },
  {
   "cell_type": "code",
   "execution_count": 56,
   "metadata": {},
   "outputs": [
    {
     "name": "stdout",
     "output_type": "stream",
     "text": [
      "torch.Size([2, 3])\n",
      "tensor([[11, 22, 33],\n",
      "        [33, 44, 55]])\n",
      "torch.Size([1, 2, 3])\n",
      "tensor([[[11, 22, 33],\n",
      "         [33, 44, 55]]])\n"
     ]
    }
   ],
   "source": [
    "### transpose() 메서드 ============================\n",
    "t1 = torch.tensor([[11, 22, 33], [33, 44, 55]])\n",
    "t2 = torch.tensor([[[11, 22, 33], [33, 44, 55]]])\n",
    "print( t1.shape, t1, sep='\\n')\n",
    "print( t2.shape, t2, sep='\\n')"
   ]
  },
  {
   "cell_type": "code",
   "execution_count": 57,
   "metadata": {},
   "outputs": [
    {
     "name": "stdout",
     "output_type": "stream",
     "text": [
      "torch.Size([2, 3])\n",
      "tensor([[11, 22, 33],\n",
      "        [33, 44, 55]])\n"
     ]
    },
    {
     "data": {
      "text/plain": [
       "tensor([[11, 33],\n",
       "        [22, 44],\n",
       "        [33, 55]])"
      ]
     },
     "execution_count": 57,
     "metadata": {},
     "output_type": "execute_result"
    }
   ],
   "source": [
    "## 0번 축 <-> 1번 축\n",
    "print( t1.shape, t1, sep='\\n')\n",
    "t1.transpose(1, 0)"
   ]
  },
  {
   "cell_type": "code",
   "execution_count": 58,
   "metadata": {},
   "outputs": [
    {
     "name": "stdout",
     "output_type": "stream",
     "text": [
      "torch.Size([1, 2, 3]) tensor([[[11, 22, 33],\n",
      "         [33, 44, 55]]])\n",
      "\n",
      "torch.Size([2, 1, 3]) tensor([[[11, 22, 33]],\n",
      "\n",
      "        [[33, 44, 55]]])\n",
      "\n",
      "torch.Size([3, 2, 1]) tensor([[[11],\n",
      "         [33]],\n",
      "\n",
      "        [[22],\n",
      "         [44]],\n",
      "\n",
      "        [[33],\n",
      "         [55]]])\n",
      "\n"
     ]
    }
   ],
   "source": [
    "## 0번 축 <-> 1번 축\n",
    "print( t2.shape, t2, end='\\n\\n')\n",
    "\n",
    "t3 = t2.transpose(1, 0)\n",
    "print( t3.shape, t3, end='\\n\\n')\n",
    "\n",
    "## 0번 축 <-> 2번 축 (1, 2, 3) ==> (3, 2, 1)\n",
    "t4 = t2.transpose(2, 0)\n",
    "print( t4.shape, t4, end='\\n\\n')"
   ]
  },
  {
   "cell_type": "code",
   "execution_count": 59,
   "metadata": {},
   "outputs": [
    {
     "name": "stdout",
     "output_type": "stream",
     "text": [
      "torch.Size([1, 2, 3])\n",
      "tensor([[[11, 22, 33],\n",
      "         [33, 44, 55]]])\n"
     ]
    }
   ],
   "source": [
    "## - 모든 축 axis 변경 가능\n",
    "t2 = torch.tensor([[[11, 22, 33], [33, 44, 55]]])\n",
    "print( t2.shape, t2, sep='\\n')"
   ]
  },
  {
   "cell_type": "code",
   "execution_count": 60,
   "metadata": {},
   "outputs": [
    {
     "name": "stdout",
     "output_type": "stream",
     "text": [
      "torch.Size([2, 3, 1])\n",
      "tensor([[[11],\n",
      "         [22],\n",
      "         [33]],\n",
      "\n",
      "        [[33],\n",
      "         [44],\n",
      "         [55]]])\n"
     ]
    }
   ],
   "source": [
    "## (1,2,3) ==> (2,3,1)\n",
    "t3 = t2.permute(1,2,0)\n",
    "print(t3.shape, t3, sep='\\n')"
   ]
  },
  {
   "cell_type": "markdown",
   "metadata": {},
   "source": [
    "- 차원 줄이기 단, 원소 갯수 유지"
   ]
  },
  {
   "cell_type": "code",
   "execution_count": 61,
   "metadata": {},
   "outputs": [
    {
     "data": {
      "text/plain": [
       "torch.Size([25])"
      ]
     },
     "execution_count": 61,
     "metadata": {},
     "output_type": "execute_result"
    }
   ],
   "source": [
    "# 이미지 1장 => 가로, 세로 5, 흑백 1 \n",
    "# - 형태 : (5, 5, 1)\n",
    "# - 원소: 5 * 5 *1 = 25\n",
    "t1 = torch.arange(11, 36)\n",
    "t1.shape"
   ]
  },
  {
   "cell_type": "code",
   "execution_count": 62,
   "metadata": {},
   "outputs": [
    {
     "data": {
      "text/plain": [
       "torch.Size([5, 5, 1])"
      ]
     },
     "execution_count": 62,
     "metadata": {},
     "output_type": "execute_result"
    }
   ],
   "source": [
    "t2=t1.reshape(5,5,1)\n",
    "t2.shape"
   ]
  },
  {
   "cell_type": "code",
   "execution_count": 63,
   "metadata": {},
   "outputs": [
    {
     "data": {
      "text/plain": [
       "torch.Size([1, 5, 5])"
      ]
     },
     "execution_count": 63,
     "metadata": {},
     "output_type": "execute_result"
    }
   ],
   "source": [
    "## 채널을 제일 앞으로 보내기\n",
    "t3=t2.transpose(0, 2)\n",
    "t3.shape"
   ]
  },
  {
   "cell_type": "code",
   "execution_count": 64,
   "metadata": {},
   "outputs": [
    {
     "data": {
      "text/plain": [
       "torch.Size([5, 5])"
      ]
     },
     "execution_count": 64,
     "metadata": {},
     "output_type": "execute_result"
    }
   ],
   "source": [
    "## 원소 갯수 유지하면서 3D ==> 2D\n",
    "t4=t3.squeeze()\n",
    "t4.shape"
   ]
  },
  {
   "cell_type": "code",
   "execution_count": 65,
   "metadata": {},
   "outputs": [
    {
     "data": {
      "text/plain": [
       "torch.Size([5, 1, 5])"
      ]
     },
     "execution_count": 65,
     "metadata": {},
     "output_type": "execute_result"
    }
   ],
   "source": [
    "## 원소 갯수 유지하면서 2D ==> 3D\n",
    "t4.unsqueeze(1).shape"
   ]
  },
  {
   "cell_type": "code",
   "execution_count": null,
   "metadata": {},
   "outputs": [],
   "source": []
  }
 ],
 "metadata": {
  "kernelspec": {
   "display_name": "DL_TORCH",
   "language": "python",
   "name": "python3"
  },
  "language_info": {
   "codemirror_mode": {
    "name": "ipython",
    "version": 3
   },
   "file_extension": ".py",
   "mimetype": "text/x-python",
   "name": "python",
   "nbconvert_exporter": "python",
   "pygments_lexer": "ipython3",
   "version": "3.9.21"
  }
 },
 "nbformat": 4,
 "nbformat_minor": 2
}
