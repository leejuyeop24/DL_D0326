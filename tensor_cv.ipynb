{
 "cells": [
  {
   "cell_type": "markdown",
   "metadata": {},
   "source": [
    "[ Image Data와 Tensor ]"
   ]
  },
  {
   "cell_type": "code",
   "execution_count": 1,
   "metadata": {},
   "outputs": [],
   "source": [
    "## 모듈 로딩\n",
    "import torch\n",
    "import numpy as np\n",
    "import cv2"
   ]
  },
  {
   "cell_type": "code",
   "execution_count": 2,
   "metadata": {},
   "outputs": [],
   "source": [
    "## 데이터 준비\n",
    "IMG_FILE = r'C:\\Users\\KDP-35\\Desktop\\KDT7\\ML_vision\\data\\dataset2\\banana\\Banana_1.jpg'"
   ]
  },
  {
   "cell_type": "code",
   "execution_count": 3,
   "metadata": {},
   "outputs": [],
   "source": [
    "## 이미지 데이터 로딩\n",
    "cImg = cv2.imread(IMG_FILE)\n",
    "gImg = cv2.imread(IMG_FILE, cv2.IMREAD_GRAYSCALE)"
   ]
  },
  {
   "cell_type": "code",
   "execution_count": 4,
   "metadata": {},
   "outputs": [
    {
     "name": "stdout",
     "output_type": "stream",
     "text": [
      "cImg => (1333, 2000, 3), 3D\n",
      "gImg => (1333, 2000), 2D\n"
     ]
    }
   ],
   "source": [
    "## 이미지 정보 확인\n",
    "print(f'cImg => {cImg.shape}, {cImg.ndim}D')\n",
    "print(f'gImg => {gImg.shape}, {gImg.ndim}D')\n",
    "\n",
    "cImg.resize(1, 10, 10)\n",
    "gImg.resize(1, 1, 10, 10)"
   ]
  },
  {
   "cell_type": "code",
   "execution_count": 5,
   "metadata": {},
   "outputs": [
    {
     "name": "stdout",
     "output_type": "stream",
     "text": [
      "cImg => (1, 10, 10), 3D\n",
      "gImg => (1, 1, 10, 10), 4D\n"
     ]
    }
   ],
   "source": [
    "## 이미지 정보 확인\n",
    "print(f'cImg => {cImg.shape}, {cImg.ndim}D')\n",
    "print(f'gImg => {gImg.shape}, {gImg.ndim}D')\n",
    "\n",
    "cImg.resize(1, 10, 10)\n",
    "gImg.resize(1, 1, 10, 10)"
   ]
  },
  {
   "cell_type": "code",
   "execution_count": 6,
   "metadata": {},
   "outputs": [
    {
     "data": {
      "text/plain": [
       "torch.Size([1, 1, 10, 10])"
      ]
     },
     "execution_count": 6,
     "metadata": {},
     "output_type": "execute_result"
    }
   ],
   "source": [
    "## 2D => 3D : 채널 정보 추가 : 원소 갯수 변경 X\n",
    "gT = torch.tensor(gImg)\n",
    "gT.shape"
   ]
  },
  {
   "cell_type": "code",
   "execution_count": 7,
   "metadata": {},
   "outputs": [
    {
     "data": {
      "text/plain": [
       "tensor([[[106, 107, 105, 109, 108, 105, 106, 105, 109, 103],\n",
       "         [106, 104, 110, 100, 104, 105, 105, 106,  98, 102],\n",
       "         [102,  98, 102,  99,  99,  96,  94,  94,  94,  92],\n",
       "         [ 91,  90,  89,  90,  89,  87,  88,  83,  81,  85],\n",
       "         [ 82,  81,  80,  80,  81,  81,  79,  78,  76,  81],\n",
       "         [ 75,  75,  79,  72,  79,  73,  71,  72,  72,  72],\n",
       "         [ 70,  69,  69,  69,  64,  65,  64,  65,  59,  60],\n",
       "         [ 57,  55,  56,  48,  53,  47,  49,  48,  43,  46],\n",
       "         [ 44,  45,  45,  46,  45,  45,  46,  47,  47,  47],\n",
       "         [ 48,  49,  50,  50,  49,  49,  47,  48,  43,  45]]],\n",
       "       dtype=torch.uint8)"
      ]
     },
     "execution_count": 7,
     "metadata": {},
     "output_type": "execute_result"
    }
   ],
   "source": [
    "gT.squeeze_(0)"
   ]
  },
  {
   "cell_type": "code",
   "execution_count": 8,
   "metadata": {},
   "outputs": [
    {
     "data": {
      "text/plain": [
       "torch.Size([1, 10, 10])"
      ]
     },
     "execution_count": 8,
     "metadata": {},
     "output_type": "execute_result"
    }
   ],
   "source": [
    "gT.shape"
   ]
  },
  {
   "cell_type": "code",
   "execution_count": 9,
   "metadata": {},
   "outputs": [
    {
     "data": {
      "text/plain": [
       "tensor([[106, 107, 105, 109, 108, 105, 106, 105, 109, 103],\n",
       "        [106, 104, 110, 100, 104, 105, 105, 106,  98, 102],\n",
       "        [102,  98, 102,  99,  99,  96,  94,  94,  94,  92],\n",
       "        [ 91,  90,  89,  90,  89,  87,  88,  83,  81,  85],\n",
       "        [ 82,  81,  80,  80,  81,  81,  79,  78,  76,  81],\n",
       "        [ 75,  75,  79,  72,  79,  73,  71,  72,  72,  72],\n",
       "        [ 70,  69,  69,  69,  64,  65,  64,  65,  59,  60],\n",
       "        [ 57,  55,  56,  48,  53,  47,  49,  48,  43,  46],\n",
       "        [ 44,  45,  45,  46,  45,  45,  46,  47,  47,  47],\n",
       "        [ 48,  49,  50,  50,  49,  49,  47,  48,  43,  45]], dtype=torch.uint8)"
      ]
     },
     "execution_count": 9,
     "metadata": {},
     "output_type": "execute_result"
    }
   ],
   "source": [
    "## 3D -> 2D 변경 축소 : 원소 갯수 변경 X\n",
    "gT.squeeze()"
   ]
  },
  {
   "cell_type": "code",
   "execution_count": null,
   "metadata": {},
   "outputs": [],
   "source": []
  }
 ],
 "metadata": {
  "kernelspec": {
   "display_name": "DL_TORCH",
   "language": "python",
   "name": "python3"
  },
  "language_info": {
   "codemirror_mode": {
    "name": "ipython",
    "version": 3
   },
   "file_extension": ".py",
   "mimetype": "text/x-python",
   "name": "python",
   "nbconvert_exporter": "python",
   "pygments_lexer": "ipython3",
   "version": "3.9.21"
  }
 },
 "nbformat": 4,
 "nbformat_minor": 2
}
