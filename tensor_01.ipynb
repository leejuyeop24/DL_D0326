{
 "cells": [
  {
   "cell_type": "markdown",
   "metadata": {},
   "source": [
    "#### [ Tensor 생성 및 속성 확인 ]  \n",
    "- Tensor란?  \n",
    "\t* pytorch에서 데이터 저장 및 모델 입출력 데이터 저장 타입  \n",
    "\t* numpy의 ndarray와 비슷함"
   ]
  },
  {
   "cell_type": "markdown",
   "metadata": {},
   "source": [
    "[1] 모듈 로딩 <hr>"
   ]
  },
  {
   "cell_type": "code",
   "execution_count": 2,
   "metadata": {},
   "outputs": [],
   "source": [
    "import torch"
   ]
  },
  {
   "cell_type": "markdown",
   "metadata": {},
   "source": [
    "[2] 텐서 생성 - torch.tensor() 함수 <hr>"
   ]
  },
  {
   "cell_type": "code",
   "execution_count": 3,
   "metadata": {},
   "outputs": [],
   "source": [
    "t1 = torch.tensor(77)\t\t\t\t\t\t# 0차원 [] X\n",
    "t2 = torch.tensor([1,3,5])\t\t\t\t\t# 1차원 [] 1개\n",
    "t3 = torch.tensor([\t[2,3,4], [9,8,7] ])\t\t# 2차원 [[]] 2개\n",
    "t4 = torch.tensor([\t[[2,3,4], [9,8,7]] ])\t# 3차원 [[[]]] 3개\n",
    "t5 = torch.tensor([\t[[2,3,4], [9,8,7]], \n",
    "\t\t\t\t   [[2,3,4], [9,8,7]]])"
   ]
  },
  {
   "cell_type": "code",
   "execution_count": 4,
   "metadata": {},
   "outputs": [],
   "source": [
    "## 텐서 속성 확인\n",
    "def printTensorInfo(tname, tobject):\n",
    "\tprint(f'{tname}-----------------------------')\n",
    "\tprint(f'shape  : {tobject.shape}\t {tobject.size()}' )\n",
    "\tprint(f'ndim   : {tobject.ndim}    {tobject.dim() }')\n",
    "\tprint(f'device : {tobject.device}')\n",
    "\tprint(f'dtype  : {tobject.dtype}' )\n",
    "\tprint(f't1     : {tobject}')"
   ]
  },
  {
   "cell_type": "code",
   "execution_count": null,
   "metadata": {},
   "outputs": [
    {
     "name": "stdout",
     "output_type": "stream",
     "text": [
      "t1-----------------------------\n",
      "shape  : torch.Size([])\t torch.Size([])\n",
      "ndim   : 0    0\n",
      "device : cpu\n",
      "dtype  : torch.int64\n",
      "t1     : 77\n",
      "t2-----------------------------\n",
      "shape  : torch.Size([3])\t torch.Size([3])\n",
      "ndim   : 1    1\n",
      "device : cpu\n",
      "dtype  : torch.int64\n",
      "t1     : tensor([1, 3, 5])\n",
      "t3-----------------------------\n",
      "shape  : torch.Size([2, 3])\t torch.Size([2, 3])\n",
      "ndim   : 2    2\n",
      "device : cpu\n",
      "dtype  : torch.int64\n",
      "t1     : tensor([[2, 3, 4],\n",
      "        [9, 8, 7]])\n",
      "t4-----------------------------\n",
      "shape  : torch.Size([1, 2, 3])\t torch.Size([1, 2, 3])\n",
      "ndim   : 3    3\n",
      "device : cpu\n",
      "dtype  : torch.int64\n",
      "t1     : tensor([[[2, 3, 4],\n",
      "         [9, 8, 7]]])\n",
      "t5-----------------------------\n",
      "shape  : torch.Size([2, 2, 3])\t torch.Size([2, 2, 3])\n",
      "ndim   : 3    3\n",
      "device : cpu\n",
      "dtype  : torch.int64\n",
      "t1     : tensor([[[2, 3, 4],\n",
      "         [9, 8, 7]],\n",
      "\n",
      "        [[2, 3, 4],\n",
      "         [9, 8, 7]]])\n"
     ]
    }
   ],
   "source": [
    "printTensorInfo('t1', t1)\n",
    "printTensorInfo('t2', t2)\n",
    "printTensorInfo('t3', t3)\n",
    "printTensorInfo('t4', t4)\n",
    "printTensorInfo('t5', t5)"
   ]
  },
  {
   "cell_type": "code",
   "execution_count": null,
   "metadata": {},
   "outputs": [],
   "source": [
    "t1 = torch.tensor(77, dtype=torch.uint8)\t\t\t\t\t\t\t# 0차원 [] X\n",
    "\n",
    "t2 = torch.tensor([1,3,5], dtype=torch.float16)\t\t\t\t\t\t# 1차원 [] 1개\n",
    "\n",
    "t3 = torch.tensor([\t[2,3,4], [9,8,7] ], dtype=torch.int8)\t\t\t# 2차원 [[]] 2개\n",
    "\n",
    "t4 = torch.tensor([\t[[2,3,4], [9,8,7]] ], dtype=torch.int8)\t\t\t# 3차원 [[[]]] 3개"
   ]
  },
  {
   "cell_type": "code",
   "execution_count": null,
   "metadata": {},
   "outputs": [
    {
     "name": "stdout",
     "output_type": "stream",
     "text": [
      "t1-----------------------------\n",
      "shape  : torch.Size([])\t torch.Size([])\n",
      "ndim   : 0    0\n",
      "device : cpu\n",
      "dtype  : torch.uint8\n",
      "t1     : 77\n",
      "t2-----------------------------\n",
      "shape  : torch.Size([3])\t torch.Size([3])\n",
      "ndim   : 1    1\n",
      "device : cpu\n",
      "dtype  : torch.float16\n",
      "t1     : tensor([1., 3., 5.], dtype=torch.float16)\n",
      "t3-----------------------------\n",
      "shape  : torch.Size([2, 3])\t torch.Size([2, 3])\n",
      "ndim   : 2    2\n",
      "device : cpu\n",
      "dtype  : torch.int8\n",
      "t1     : tensor([[2, 3, 4],\n",
      "        [9, 8, 7]], dtype=torch.int8)\n",
      "t4-----------------------------\n",
      "shape  : torch.Size([1, 2, 3])\t torch.Size([1, 2, 3])\n",
      "ndim   : 3    3\n",
      "device : cpu\n",
      "dtype  : torch.int8\n",
      "t1     : tensor([[[2, 3, 4],\n",
      "         [9, 8, 7]]], dtype=torch.int8)\n",
      "t5-----------------------------\n",
      "shape  : torch.Size([2, 2, 3])\t torch.Size([2, 2, 3])\n",
      "ndim   : 3    3\n",
      "device : cpu\n",
      "dtype  : torch.int64\n",
      "t1     : tensor([[[2, 3, 4],\n",
      "         [9, 8, 7]],\n",
      "\n",
      "        [[2, 3, 4],\n",
      "         [9, 8, 7]]])\n"
     ]
    }
   ],
   "source": [
    "printTensorInfo('t1', t1)\n",
    "printTensorInfo('t2', t2)\n",
    "printTensorInfo('t3', t3)\n",
    "printTensorInfo('t4', t4)\n",
    "printTensorInfo('t5', t5)"
   ]
  },
  {
   "cell_type": "markdown",
   "metadata": {},
   "source": [
    "[3] 다양한 텐서 생성 함수들 <hr>"
   ]
  },
  {
   "cell_type": "code",
   "execution_count": null,
   "metadata": {},
   "outputs": [],
   "source": [
    "t1 = torch.zeros(2,2,dtype=torch.int8)\t# 0으로 채운 Tensor\n",
    "t2 = torch.ones(2,5,dtype=torch.int8)\t# 1로 채운 Tensor\n",
    "t3 = torch.full((2,),4)\t\t\t\t    # 4로 체운 Tensor\n",
    "t4 = torch.eye(2)\t\t\t\t\t\t# 대각선 1로 채운 Tensor\n",
    "t5 = torch.eye(1,3)\t\t\t\t\t\t"
   ]
  },
  {
   "cell_type": "code",
   "execution_count": null,
   "metadata": {},
   "outputs": [
    {
     "name": "stdout",
     "output_type": "stream",
     "text": [
      "t1-----------------------------\n",
      "shape  : torch.Size([2, 2])\t torch.Size([2, 2])\n",
      "ndim   : 2    2\n",
      "device : cpu\n",
      "dtype  : torch.int8\n",
      "t1     : tensor([[0, 0],\n",
      "        [0, 0]], dtype=torch.int8)\n",
      "t2-----------------------------\n",
      "shape  : torch.Size([2, 5])\t torch.Size([2, 5])\n",
      "ndim   : 2    2\n",
      "device : cpu\n",
      "dtype  : torch.int8\n",
      "t1     : tensor([[1, 1, 1, 1, 1],\n",
      "        [1, 1, 1, 1, 1]], dtype=torch.int8)\n",
      "t3-----------------------------\n",
      "shape  : torch.Size([2])\t torch.Size([2])\n",
      "ndim   : 1    1\n",
      "device : cpu\n",
      "dtype  : torch.int64\n",
      "t1     : tensor([4, 4])\n",
      "t4-----------------------------\n",
      "shape  : torch.Size([2, 2])\t torch.Size([2, 2])\n",
      "ndim   : 2    2\n",
      "device : cpu\n",
      "dtype  : torch.float32\n",
      "t1     : tensor([[1., 0.],\n",
      "        [0., 1.]])\n",
      "t5-----------------------------\n",
      "shape  : torch.Size([1, 3])\t torch.Size([1, 3])\n",
      "ndim   : 2    2\n",
      "device : cpu\n",
      "dtype  : torch.float32\n",
      "t1     : tensor([[1., 0., 0.]])\n"
     ]
    }
   ],
   "source": [
    "printTensorInfo('t1', t1)\n",
    "printTensorInfo('t2', t2)\n",
    "printTensorInfo('t3', t3)\n",
    "printTensorInfo('t4', t4)\n",
    "printTensorInfo('t5', t5)"
   ]
  }
 ],
 "metadata": {
  "kernelspec": {
   "display_name": "DL_TORCH",
   "language": "python",
   "name": "python3"
  },
  "language_info": {
   "codemirror_mode": {
    "name": "ipython",
    "version": 3
   },
   "file_extension": ".py",
   "mimetype": "text/x-python",
   "name": "python",
   "nbconvert_exporter": "python",
   "pygments_lexer": "ipython3",
   "version": "3.9.21"
  }
 },
 "nbformat": 4,
 "nbformat_minor": 2
}
